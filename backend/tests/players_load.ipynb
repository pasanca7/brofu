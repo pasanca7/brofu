{
 "cells": [
  {
   "cell_type": "code",
   "execution_count": 2,
   "metadata": {},
   "outputs": [],
   "source": [
    "import pandas as pd\n",
    "\n",
    "df = pd.read_csv(\"../inputs/transfermarkt_players.csv\", usecols=[\"player_id\", \"name\", \"first_name\",\"last_name\", \"position\", \"sub_position\", \"country_of_citizenship\", \"date_of_birth\"])"
   ]
  },
  {
   "cell_type": "code",
   "execution_count": 4,
   "metadata": {},
   "outputs": [],
   "source": [
    "df.rename(columns={\n",
    "    \"player_id\":\"id\",\n",
    "    \"country_of_citizenship\":\"nationality\",\n",
    "}, inplace=True)"
   ]
  },
  {
   "cell_type": "code",
   "execution_count": 5,
   "metadata": {},
   "outputs": [],
   "source": [
    "df.loc[df[\"position\"] == \"Attack\", \"position\"] = \"FW\"\n",
    "df.loc[df[\"position\"] == \"Goalkeeper\", \"position\"] = \"GK\"\n",
    "df.loc[df[\"position\"] == \"Defender\", \"position\"] = \"DF\"\n",
    "df.loc[df[\"position\"] == \"Midfield\", \"position\"] = \"MD\"\n",
    "df.loc[df[\"position\"] == \"Missing\", \"position\"] = None\n",
    "\n"
   ]
  },
  {
   "cell_type": "code",
   "execution_count": 6,
   "metadata": {},
   "outputs": [],
   "source": [
    "df.loc[df[\"sub_position\"] == \"Goalkeeper\", \"sub_position\"] = \"GK\"\n",
    "\n",
    "df.loc[df[\"sub_position\"] == \"Centre-Back\", \"sub_position\"] = \"CB\"\n",
    "df.loc[df[\"sub_position\"] == \"Left-Back\", \"sub_position\"] = \"LB\"\n",
    "df.loc[df[\"sub_position\"] == \"Right-Back\", \"sub_position\"] = \"RB\"\n",
    "\n",
    "df.loc[df[\"sub_position\"] == \"Defensive Midfield\", \"sub_position\"] = \"CDM\"\n",
    "df.loc[df[\"sub_position\"] == \"Central Midfield\", \"sub_position\"] = \"MD\"\n",
    "df.loc[df[\"sub_position\"] == \"Attacking Midfield\", \"sub_position\"] = \"CF\"\n",
    "df.loc[df[\"sub_position\"] == \"Left Midfield\", \"sub_position\"] = \"LM\"\n",
    "df.loc[df[\"sub_position\"] == \"Right Midfield\", \"sub_position\"] = \"RM\"\n",
    "\n",
    "df.loc[df[\"sub_position\"] == \"Left Winger\", \"sub_position\"] = \"LW\"\n",
    "df.loc[df[\"sub_position\"] == \"Right Winger\", \"sub_position\"] = \"RW\"\n",
    "df.loc[df[\"sub_position\"] == \"Second Striker\", \"sub_position\"] = \"SS\"\n",
    "df.loc[df[\"sub_position\"] == \"Centre-Forward\", \"sub_position\"] = \"ST\"\n",
    "\n",
    "df.loc[pd.isna(df[\"sub_position\"]), \"sub_position\"] = None"
   ]
  },
  {
   "cell_type": "code",
   "execution_count": 8,
   "metadata": {},
   "outputs": [],
   "source": [
    "df[\"date_of_birth\"] = pd.to_datetime(df[\"date_of_birth\"], errors=\"coerce\")"
   ]
  }
 ],
 "metadata": {
  "kernelspec": {
   "display_name": ".venv",
   "language": "python",
   "name": "python3"
  },
  "language_info": {
   "codemirror_mode": {
    "name": "ipython",
    "version": 3
   },
   "file_extension": ".py",
   "mimetype": "text/x-python",
   "name": "python",
   "nbconvert_exporter": "python",
   "pygments_lexer": "ipython3",
   "version": "3.13.2"
  }
 },
 "nbformat": 4,
 "nbformat_minor": 2
}
